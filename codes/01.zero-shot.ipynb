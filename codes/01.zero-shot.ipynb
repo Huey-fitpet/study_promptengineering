{
 "cells": [
  {
   "cell_type": "markdown",
   "metadata": {},
   "source": [
    "## Zero-Shot\n",
    "- 예제 없이 질문\n",
    "- 간단한 질문, 텍스트 분류, 요약"
   ]
  },
  {
   "cell_type": "markdown",
   "metadata": {},
   "source": [
    "### 예제 1\n",
    "```\n",
    "긍정 또는 부정으로 답변을 작성하세요.\n",
    "Q: 매력적인 이성과 사랑에 빠졌어!\n",
    "A:\n",
    "```\n",
    "```\n",
    "긍정 또는 부정으로 답변을 작성하세요. <- 결론\n",
    "Q: 매력적인 이성과 사랑에 빠졌어! <- 예제\n",
    "A:\n",
    "```"
   ]
  },
  {
   "cell_type": "markdown",
   "metadata": {},
   "source": []
  }
 ],
 "metadata": {
  "language_info": {
   "name": "python"
  }
 },
 "nbformat": 4,
 "nbformat_minor": 2
}
