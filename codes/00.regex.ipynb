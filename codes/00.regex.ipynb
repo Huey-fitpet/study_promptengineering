{
 "cells": [
  {
   "cell_type": "markdown",
   "metadata": {},
   "source": [
    "### 패턴에 맞게 추출"
   ]
  },
  {
   "cell_type": "code",
   "execution_count": 1,
   "metadata": {},
   "outputs": [],
   "source": [
    "import re"
   ]
  },
  {
   "cell_type": "code",
   "execution_count": 8,
   "metadata": {},
   "outputs": [],
   "source": [
    "# 숫자 대상 \n",
    "text = \"I have 2 apples and 15 oranges.\"\n",
    "pattern=r'\\d+'\n",
    "\n",
    "matches = re.findall(pattern=pattern, string=text)"
   ]
  },
  {
   "cell_type": "code",
   "execution_count": 9,
   "metadata": {},
   "outputs": [
    {
     "data": {
      "text/plain": [
       "(list, '15')"
      ]
     },
     "execution_count": 9,
     "metadata": {},
     "output_type": "execute_result"
    }
   ],
   "source": [
    "type(matches), matches[1]"
   ]
  },
  {
   "cell_type": "code",
   "execution_count": 19,
   "metadata": {},
   "outputs": [],
   "source": [
    "# 문자 대상 \n",
    "text = \"I love Python because python is easy to learn. PYTHON\"\n",
    "# pattern=r'[pP]ython'\n",
    "pattern=r'python'\n",
    "\n",
    "matches = re.findall(pattern=pattern, string=text, flags=re.IGNORECASE)"
   ]
  },
  {
   "cell_type": "code",
   "execution_count": 20,
   "metadata": {},
   "outputs": [
    {
     "data": {
      "text/plain": [
       "(list, ['Python', 'python', 'PYTHON'], 3)"
      ]
     },
     "execution_count": 20,
     "metadata": {},
     "output_type": "execute_result"
    }
   ],
   "source": [
    "type(matches), matches, len(matches)"
   ]
  },
  {
   "cell_type": "code",
   "execution_count": 24,
   "metadata": {},
   "outputs": [],
   "source": [
    "# 문자 대상 \n",
    "text = \"I love Python because python is easy to learn. PYTHON\"\n",
    "# pattern=r'[pP]ython'\n",
    "pattern=r'/python/gi' # 원래 있는건데 파이썬에서 지원 안되는 듯\n",
    "\n",
    "matches = re.findall(pattern=pattern, string=text)"
   ]
  },
  {
   "cell_type": "code",
   "execution_count": 25,
   "metadata": {},
   "outputs": [
    {
     "data": {
      "text/plain": [
       "(list, [], 0)"
      ]
     },
     "execution_count": 25,
     "metadata": {},
     "output_type": "execute_result"
    }
   ],
   "source": [
    "type(matches), matches, len(matches)"
   ]
  },
  {
   "cell_type": "markdown",
   "metadata": {},
   "source": [
    "### 치환"
   ]
  },
  {
   "cell_type": "code",
   "execution_count": 30,
   "metadata": {},
   "outputs": [
    {
     "data": {
      "text/plain": [
       "'Hello world Hows it going382number.'"
      ]
     },
     "execution_count": 30,
     "metadata": {},
     "output_type": "execute_result"
    }
   ],
   "source": [
    "text = \"Hello, world! How's it going?382number.\"\n",
    "pattern=r'[^\\w\\d\\s\\.]'\n",
    "replace = \"\"\n",
    "\n",
    "clean_txt = re.sub(pattern=pattern, string=text, repl=replace)\n",
    "clean_txt"
   ]
  },
  {
   "cell_type": "code",
   "execution_count": 31,
   "metadata": {},
   "outputs": [
    {
     "data": {
      "text/plain": [
       "(str, 'Hello world Hows it going382number.', 35)"
      ]
     },
     "execution_count": 31,
     "metadata": {},
     "output_type": "execute_result"
    }
   ],
   "source": [
    "type(clean_txt), clean_txt, len(clean_txt)\n"
   ]
  },
  {
   "cell_type": "markdown",
   "metadata": {},
   "source": [
    "### replace로 출력 순서 조절"
   ]
  },
  {
   "cell_type": "code",
   "execution_count": 42,
   "metadata": {},
   "outputs": [
    {
     "data": {
      "text/plain": [
       "'The event is scheduled on 21-01-2025.\\n\\nThe event is scheduled on 21-02-2024.\\n\\nThe event is scheduled on 2024-1-1.'"
      ]
     },
     "execution_count": 42,
     "metadata": {},
     "output_type": "execute_result"
    }
   ],
   "source": [
    "# 문자 대상 \n",
    "text = \"\"\"The event is scheduled on 2025-01-21.\n",
    "\n",
    "The event is scheduled on 2024-02-21.\n",
    "\n",
    "The event is scheduled on 2024-1-1.\"\"\"\n",
    "pattern=r'(\\d{4})-(\\d{2})-(\\d{2})' # ()는 group 화 되고 넘버링 됨. - 1,2,3\n",
    "# replace = r'\\3/\\2/\\1'\n",
    "replace = r'\\3-\\2-\\1'\n",
    "\n",
    "clean_txt = re.sub(pattern=pattern, string=text, repl=replace)\n",
    "clean_txt"
   ]
  },
  {
   "cell_type": "code",
   "execution_count": 43,
   "metadata": {},
   "outputs": [],
   "source": [
    "# 문자 대상 \n",
    "text = \"\"\"The event is scheduled on 2025-01-21.\n",
    "\n",
    "The event is scheduled on 2024-02-21.\n",
    "\n",
    "The event is scheduled on 2024-1-1.\"\"\"\n",
    "# pattern=r'[pP]ython'\n",
    "pattern=r'\\d{4}-\\d{2}-\\d{2}' \n",
    "\n",
    "matches = re.findall(pattern=pattern, string=text)"
   ]
  },
  {
   "cell_type": "code",
   "execution_count": 44,
   "metadata": {},
   "outputs": [
    {
     "data": {
      "text/plain": [
       "(list, ['2025-01-21', '2024-02-21'], 2)"
      ]
     },
     "execution_count": 44,
     "metadata": {},
     "output_type": "execute_result"
    }
   ],
   "source": [
    "type(matches), matches, len(matches)"
   ]
  },
  {
   "cell_type": "code",
   "execution_count": 45,
   "metadata": {},
   "outputs": [],
   "source": [
    "# 문자 대상 \n",
    "text = \"\"\"The event is scheduled on 2025-01-21.\n",
    "\n",
    "The event is scheduled on 2024-02-21.\n",
    "\n",
    "The event is scheduled on 2024-1-1.\"\"\"\n",
    "# pattern=r'[pP]ython'\n",
    "pattern=r'(\\d{4})-(\\d{2})-(\\d{2})' \n",
    "\n",
    "matches = re.findall(pattern=pattern, string=text)"
   ]
  },
  {
   "cell_type": "code",
   "execution_count": 46,
   "metadata": {},
   "outputs": [
    {
     "data": {
      "text/plain": [
       "(list, [('2025', '01', '21'), ('2024', '02', '21')], 2)"
      ]
     },
     "execution_count": 46,
     "metadata": {},
     "output_type": "execute_result"
    }
   ],
   "source": [
    "type(matches), matches, len(matches)"
   ]
  },
  {
   "cell_type": "markdown",
   "metadata": {},
   "source": [
    "### search와 group"
   ]
  },
  {
   "cell_type": "code",
   "execution_count": 50,
   "metadata": {},
   "outputs": [],
   "source": [
    "# 문자 대상 \n",
    "text = \"\"\"The event is scheduled on 2025-01-21.\n",
    "\n",
    "The event is scheduled on 2024-02-21.\n",
    "\n",
    "The event is scheduled on 2024-1-1.\"\"\"\n",
    "# pattern=r'[pP]ython'\n",
    "pattern=r'(\\d{4})-(\\d{2})-(\\d{2})' \n",
    "\n",
    "matches = re.search(pattern=pattern, string=text)"
   ]
  },
  {
   "cell_type": "code",
   "execution_count": 51,
   "metadata": {},
   "outputs": [
    {
     "data": {
      "text/plain": [
       "<re.Match object; span=(26, 36), match='2025-01-21'>"
      ]
     },
     "execution_count": 51,
     "metadata": {},
     "output_type": "execute_result"
    }
   ],
   "source": [
    "matches"
   ]
  },
  {
   "cell_type": "code",
   "execution_count": 53,
   "metadata": {},
   "outputs": [
    {
     "data": {
      "text/plain": [
       "('2025-01-21', '2025', '01', '21')"
      ]
     },
     "execution_count": 53,
     "metadata": {},
     "output_type": "execute_result"
    }
   ],
   "source": [
    "matches.group(0), matches.group(1), matches.group(2), matches.group(3),"
   ]
  },
  {
   "cell_type": "code",
   "execution_count": null,
   "metadata": {},
   "outputs": [],
   "source": []
  }
 ],
 "metadata": {
  "kernelspec": {
   "display_name": "Python 3",
   "language": "python",
   "name": "python3"
  },
  "language_info": {
   "codemirror_mode": {
    "name": "ipython",
    "version": 3
   },
   "file_extension": ".py",
   "mimetype": "text/x-python",
   "name": "python",
   "nbconvert_exporter": "python",
   "pygments_lexer": "ipython3",
   "version": "3.8.10"
  }
 },
 "nbformat": 4,
 "nbformat_minor": 2
}
