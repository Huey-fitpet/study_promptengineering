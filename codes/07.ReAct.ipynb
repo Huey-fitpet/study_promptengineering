{
 "cells": [
  {
   "cell_type": "markdown",
   "metadata": {},
   "source": [
    "## 반응적 추론(ReAct: Reasoning and Acting)\n"
   ]
  }
 ],
 "metadata": {
  "language_info": {
   "name": "python"
  }
 },
 "nbformat": 4,
 "nbformat_minor": 2
}
