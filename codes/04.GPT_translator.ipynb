{
 "cells": [
  {
   "cell_type": "markdown",
   "metadata": {},
   "source": [
    "## GPT app 작성 : 번역 기능\n",
    "- 영문 -> 한국어 번역 "
   ]
  },
  {
   "cell_type": "markdown",
   "metadata": {},
   "source": [
    "##### 대상 문장 \n",
    "- William Shakespeare was an English playwright, poet and actor. He is widely regarded as the greatest writer in the English language and the world's pre-eminent dramatist.\n"
   ]
  },
  {
   "cell_type": "markdown",
   "metadata": {},
   "source": [
    "### 프롬프트 지시 방식(CoT 방식 사용)\n",
    "- 역할 지정 : 특정 직군, 연령, 업무 지정 \n",
    "- 순서 지정 : 업무 처리 순서 제작 -> 패턴화한 업무 flow 만드는 것 \n",
    "- 출력 지정 : 문장, 코드, 이미지 등 형식 지정 "
   ]
  },
  {
   "cell_type": "markdown",
   "metadata": {},
   "source": [
    "if 문장 영문 \n",
    "    한글 버역\n",
    "else \n",
    "    영문 아님 \n",
    "\n",
    "- 역할과 출력 지정 \n",
    "너는 번역 전문가이며, 반환 결과는 반드시 JSON 데이터로 작성\n",
    "- 순서 지정 \n",
    "    Step 순서대로 작업 수행하고 결과 아래 JSON 포맷 으로 작성\n",
    "    + Step-1 : 텍스트를 원문 그대로 읽어옴.\n",
    "    + Step-2 : 입력된 텍스트를 영어가 아니면 false로 표기하고 종료, 영어면 Step-3 진행\n",
    "    + Step-3 : 한국어로 다음 말투로 번역할 것 : [\"지구 나이는 45억 살 입니다.\"]\n",
    "```{text}```\n",
    "---\n",
    "결과 : {{Step-1 : <입력텍스트>, \n",
    "        Step-2 : <true/false>,\n",
    "        Step-3 : <번역결과>}}\n"
   ]
  }
 ],
 "metadata": {
  "language_info": {
   "name": "python"
  }
 },
 "nbformat": 4,
 "nbformat_minor": 2
}
