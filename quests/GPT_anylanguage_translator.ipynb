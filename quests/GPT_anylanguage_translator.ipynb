{
 "cells": [
  {
   "cell_type": "markdown",
   "metadata": {},
   "source": [
    "## GPT app 작성 : 번역 기능\n",
    "- 모든 언어 -> 한국어 번역 "
   ]
  },
  {
   "cell_type": "markdown",
   "metadata": {},
   "source": [
    "##### 대상 문장 \n",
    "- William Shakespeare was an English playwright, poet and actor. He is widely regarded as the greatest writer in the English language and the world's pre-eminent dramatist.\n"
   ]
  },
  {
   "cell_type": "markdown",
   "metadata": {},
   "source": [
    "### 프롬프트 지시 방식(CoT 방식 사용)\n",
    "- 역할 지정 : 특정 직군, 연령, 업무 지정 \n",
    "- 순서 지정 : 업무 처리 순서 제작 -> 패턴화한 업무 flow 만드는 것 \n",
    "- 출력 지정 : 문장, 코드, 이미지 등 형식 지정 "
   ]
  },
  {
   "cell_type": "markdown",
   "metadata": {},
   "source": [
    "\n",
    "너는 번역 전문가이며, 입력된 언어를 감지해서 해당 언어의 전문가가 될 것, 반환 결과는 반드시 JSON 데이터로 작성, 예제 참고\n",
    "\n",
    "    Step 순서대로 작업 수행하고 결과 아래 JSON 포맷 으로 작성\n",
    "    + Step-1 : 텍스트를 원문 그대로 읽어옴.\n",
    "    + Step-2 : 입력된 텍스트를 감지하여 각 언어에 맞는 전문가로 변환\n",
    "    + Step-3 : 한국어로 다음 말투로 번역할 것 : [\"지구 나이는 45억 살 입니다.\"]\n",
    "\n",
    "---\n",
    "```\n",
    "결과 : {{Step-1 : <입력텍스트>, \n",
    "        Step-2 : <입력텍스트감지후변환>,\n",
    "        Step-3 : <번역결과>}}\n",
    "```\n",
    "[예제]\n",
    "```\n",
    "\"Die beste Zeit für einen Neuanfang ist jetzt. Jeder Tag ist eine neue Chance, um das zu tun, was du möchtest. Lass die Vergangenheit hinter dir und konzentriere dich auf die Zukunft. Du hast die Kraft, dein Leben zu verändern. Beginne heute!\"\n",
    "결과 : {{Step-1 : <Die beste Zeit für einen Neuanfang ist jetzt. Jeder Tag ist eine neue Chance, um das zu tun, was du möchtest. Lass die Vergangenheit hinter dir und konzentriere dich auf die Zukunft. Du hast die Kraft, dein Leben zu verändern. Beginne heute!>, \n",
    "        Step-2 : <독일어>,\n",
    "        Step-3 : <가장 좋은 새로운 시작의 시간은 지금입니다. 매일은 당신이 원하는 것을 할 수 있는 새로운 기회입니다. 과거를 뒤로하고 미래에 집중하세요. 당신은 자신의 삶을 변화시킬 수 있는 힘이 있습니다. 오늘 시작하세요!>}}\n",
    "```"
   ]
  },
  {
   "cell_type": "markdown",
   "metadata": {
    "vscode": {
     "languageId": "plaintext"
    }
   },
   "source": [
    "```\n",
    "{\n",
    "    \"Step-1\": \"Was du heute kannst besorgen, das verschiebe nicht auf morgen. Jeder Moment zählt, und die Zeit vergeht schnell. Nutze die Gelegenheiten, die sich dir bieten. Prokrastination führt oft zu Bedauern. Handle jetzt und ergreife die Initiative!\",\n",
    "    \"Step-2\": \"독일어\",\n",
    "    \"Step-3\": \"오늘 할 수 있는 일을 내일로 미루지 마세요. 모든 순간은 소중하며 시간은 빠르게 흘러갑니다. 당신에게 주어진 기회를 활용하세요. 미루는 것은 종종 후회를 가져옵니다. 지금 행동하고 주도권을 잡으세요!\"\n",
    "}\n",
    "```"
   ]
  },
  {
   "cell_type": "markdown",
   "metadata": {},
   "source": [
    "```\n",
    "{\n",
    "    \"Step-1\": \"成功は一夜にして訪れるものではありません。努力と忍耐が必要です。小さな一歩を踏み出すことが大切です。毎日の積み重ねが大きな成果につながります。自分のペースで進んでいきましょう。\",\n",
    "    \"Step-2\": \"일본어\",\n",
    "    \"Step-3\": \"성공은 단 하루 만에 이루어지지 않습니다. 노력과 인내가 필요합니다. 작은 한 걸음을 내딛는 것이 중요합니다. 매일의 쌓임이 큰 성과로 이어집니다. 자신의 속도에 맞춰 나아가 봅시다.\"\n",
    "}\n",
    "```"
   ]
  },
  {
   "cell_type": "markdown",
   "metadata": {},
   "source": [
    "```\n",
    "{\n",
    "    \"Step-1\": \"William Shakespeare was an English playwright, poet and actor. He is widely regarded as the greatest writer in the English language and the world's pre-eminent dramatist.\",\n",
    "    \"Step-2\": \"영어\",\n",
    "    \"Step-3\": \"윌리엄 셰익스피어는 영국의 극작가, 시인, 그리고 배우였습니다. 그는 영어권에서 가장 위대한 작가이자 세계에서 가장 저명한 극작가로 널리 인정받고 있습니다.\"\n",
    "}\n",
    "```"
   ]
  },
  {
   "cell_type": "markdown",
   "metadata": {},
   "source": [
    "```\n",
    "{\n",
    "    \"Step-1\": \"Что написано пером, того не вырубишь топором.\",\n",
    "    \"Step-2\": \"러시아어\",\n",
    "    \"Step-3\": \"펜으로 쓴 것은 도끼로도 지울 수 없습니다.\"\n",
    "}\n",
    "```"
   ]
  },
  {
   "cell_type": "markdown",
   "metadata": {},
   "source": [
    "```\n",
    "{\n",
    "    \"Step-1\": \"Khi ta cảm thấy yêu thương và tử tế với người khác, điều đó không chỉ làm người khác cảm thấy được yêu thương và chăm sóc, mà còn giúp ta tìm được hạnh phúc và bình an trong nội tâm. - Đạt Lai Lạt Ma XIV\",\n",
    "    \"Step-2\": \"베트남어\",\n",
    "    \"Step-3\": \"우리가 다른 사람들에게 사랑과 친절을 느낄 때, 그것은 단순히 그들에게 사랑받고 보살핌을 받고 있다는 느낌을 줄 뿐만 아니라 우리 내면에서 행복과 평화를 찾는 데도 도움을 줍니다. - 달라이 라마 14세\"\n",
    "}\n",
    "```"
   ]
  },
  {
   "cell_type": "markdown",
   "metadata": {},
   "source": []
  }
 ],
 "metadata": {
  "language_info": {
   "name": "python"
  }
 },
 "nbformat": 4,
 "nbformat_minor": 2
}
